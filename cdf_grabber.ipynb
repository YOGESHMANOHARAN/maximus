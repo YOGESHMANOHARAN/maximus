{
 "cells": [
  {
   "cell_type": "code",
   "execution_count": null,
   "metadata": {},
   "outputs": [],
   "source": [
    "%pip install wget pandas beautifulsoup4\n"
   ]
  },
  {
   "cell_type": "code",
   "execution_count": null,
   "metadata": {},
   "outputs": [],
   "source": [
    "#Imports\n",
    "from bs4 import BeautifulSoup\n",
    "import wget\n",
    "import pandas as pd\n",
    "import time\n",
    "\n",
    "def download_html():\n",
    "    '''\n",
    "    Function visits url, downloads html of page and stores on local machine\n",
    "    '''\n",
    "    url = 'https://archive.arm.gov/orders/catalog/orders/manoharany1/243080/catalog.html?ticket=ST-80782-HhbuDEgYjFAK4Qk7Wsb7ktWQ7VYsso'\n",
    "    wget.download(url)\n",
    "    return \n",
    "\n",
    "def parse_html():\n",
    "\n",
    "    '''\n",
    "    Function parses through the downloaded HTML, grabs all of the files we want to download and appends to list\n",
    "    '''\n",
    "\n",
    "    with open('catalog.html', 'r', encoding='utf-8') as file:\n",
    "    \n",
    "        html_content = file.read()\n",
    "\n",
    "    soup = BeautifulSoup(html_content, 'html.parser')\n",
    "\n",
    "    # Find all anchor tags with href attributes\n",
    "    file_links = soup.find_all('a', href=True)\n",
    "\n",
    "    # Initialize an empty list to store the filtered file names\n",
    "    filtered_files = []\n",
    "\n",
    "    # Iterate through the file links\n",
    "    for link in file_links:\n",
    "        href = link['href']\n",
    "\n",
    "        # Check if the href contains the desired dataset path\n",
    "        if 'User_Orders/manoharany1/243080/' in href:\n",
    "            # Extract the file name\n",
    "            file_name = href.split('/')[-1]\n",
    "\n",
    "            # Extract the year from the file name\n",
    "            year = file_name.split('.')[-3]\n",
    "            year = int(str(year[:4]))\n",
    "            # Check if the year is greater than or equal to 2016\n",
    "            if year >= 2006:\n",
    "                filtered_files.append(file_name)\n",
    "    return filtered_files\n",
    "\n",
    "def download_files(filtered_files):\n",
    "    i = total = len(filtered_files)\n",
    "    for x in filtered_files:\n",
    "\n",
    "        print(f'Downloading {x}.....')\n",
    "        url = f'https://archive.arm.gov/orders/fileServer/orders/manoharany1/243080/{x}'\n",
    "        wget.download(url,r\"cdf_files\")\n",
    "        i = i-1\n",
    "        print(f'Downloaded! {i}/{total} ')\n",
    "\n",
    "\n",
    "\n",
    "download_html()\n",
    "\n",
    "#puts app to sleep for 10 seconds so html can finish downloading\n",
    "time.sleep(10)\n",
    "\n",
    "bruh = parse_html()\n",
    "download_files(bruh)"
   ]
  },
  {
   "cell_type": "code",
   "execution_count": null,
   "metadata": {},
   "outputs": [],
   "source": []
  }
 ],
 "metadata": {
  "kernelspec": {
   "display_name": "Python 3",
   "language": "python",
   "name": "python3"
  },
  "language_info": {
   "codemirror_mode": {
    "name": "ipython",
    "version": 3
   },
   "file_extension": ".py",
   "mimetype": "text/x-python",
   "name": "python",
   "nbconvert_exporter": "python",
   "pygments_lexer": "ipython3",
   "version": "3.10.11"
  }
 },
 "nbformat": 4,
 "nbformat_minor": 2
}
